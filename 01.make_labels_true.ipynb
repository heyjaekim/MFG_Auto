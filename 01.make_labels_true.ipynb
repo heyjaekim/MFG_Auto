{
 "cells": [
  {
   "cell_type": "code",
   "execution_count": 1,
   "metadata": {},
   "outputs": [
    {
     "name": "stdout",
     "output_type": "stream",
     "text": [
      "Total number of images: 655, total number of models: 2\n"
     ]
    }
   ],
   "source": [
    "\"\"\"\n",
    "이미지 폴더의 파일을 분석하여 정답 레이블(labels_true)을 생성하는 모듈입니다.\n",
    "\"\"\"\n",
    "import os\n",
    "import re\n",
    "import numpy as np\n",
    "from config import *\n",
    "\n",
    "\n",
    "def make_labels_true():\n",
    "    \"\"\"\n",
    "    이미지 폴더의 파일을 분석하여 정답 레이블(labels_true)을 생성하는 함수입니다.\n",
    "    정답 레이블에 대응하는 이미지 파일 경로는 IMG_PATHS 에 저장됩니다.\n",
    "    :return: None\n",
    "    \"\"\"\n",
    "    # regex rule to extract true labels\n",
    "    # re_model = re.compile(\"^(\\d+)_\")\n",
    "    # re_model = re.compile(\"^(\\w+)\")\n",
    "    \n",
    "    # get list of files\n",
    "    IMG_DIR = './img'\n",
    "    DATA_DIR = './data/dev'\n",
    "    IMG_PATHS = 'img_paths'\n",
    "    LABELS_TRUE = 'labels_true'\n",
    "    if os.path.exists(IMG_DIR) is False:\n",
    "        print(\"Folder %s not found, copy image files to %s\" % (IMG_DIR, IMG_DIR))\n",
    "        return\n",
    "    img_paths = os.listdir(IMG_DIR)\n",
    "    img_paths.sort()\n",
    "    img_paths = [filename for filename in img_paths]\n",
    "    # img_paths = [filename for filename in img_paths if filename.endswith(IMG_EXT)]\n",
    "\n",
    "    # labels_true = [re_model.match(img_path).group(1) for img_path in img_paths]\n",
    "    labels_true = [img_path.split(\"_\")[0] for img_path in img_paths]\n",
    "    print(\"Total number of images: %d, total number of models: %d\" % (len(labels_true), len(set(labels_true))))\n",
    "    \n",
    "    if os.path.exists(DATA_DIR) is False:\n",
    "        os.makedirs(DATA_DIR)\n",
    "\n",
    "    with open(os.path.join(DATA_DIR, IMG_PATHS), 'w') as f:\n",
    "        f.writelines([line + \"\\n\" for line in img_paths])\n",
    "    with open(os.path.join(DATA_DIR, LABELS_TRUE), 'w') as f:\n",
    "        f.writelines([line + \"\\n\" for line in labels_true])\n",
    "\n",
    "    # additionally save npy and tsv\n",
    "    np.save(os.path.join(DATA_DIR, LABELS_TRUE + \".npy\"), labels_true)\n",
    "    np.savetxt(os.path.join(DATA_DIR, LABELS_TRUE + \".tsv\"), labels_true, \"%s\", delimiter=\"\\t\")\n",
    "    np.savetxt(os.path.join(DATA_DIR, LABELS_TRUE + \".txt\"), labels_true, \"%s\", delimiter=\"\\t\")\n",
    "\n",
    "\n",
    "if __name__ == '__main__':\n",
    "    make_labels_true()\n"
   ]
  },
  {
   "cell_type": "code",
   "execution_count": null,
   "metadata": {},
   "outputs": [],
   "source": []
  }
 ],
 "metadata": {
  "kernelspec": {
   "display_name": "Python 3",
   "language": "python",
   "name": "python3"
  },
  "language_info": {
   "codemirror_mode": {
    "name": "ipython",
    "version": 3
   },
   "file_extension": ".py",
   "mimetype": "text/x-python",
   "name": "python",
   "nbconvert_exporter": "python",
   "pygments_lexer": "ipython3",
   "version": "3.8.6"
  }
 },
 "nbformat": 4,
 "nbformat_minor": 4
}
