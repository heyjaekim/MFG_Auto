{
 "cells": [
  {
   "cell_type": "markdown",
   "metadata": {},
   "source": [
    "### Raw Data Img"
   ]
  },
  {
   "cell_type": "code",
   "execution_count": 69,
   "metadata": {
    "collapsed": true
   },
   "outputs": [
    {
     "ename": "KeyboardInterrupt",
     "evalue": "",
     "output_type": "error",
     "traceback": [
      "\u001b[1;31m---------------------------------------------------------------------------\u001b[0m",
      "\u001b[1;31mKeyboardInterrupt\u001b[0m                         Traceback (most recent call last)",
      "\u001b[1;32m<ipython-input-69-c184610bcce5>\u001b[0m in \u001b[0;36m<module>\u001b[1;34m\u001b[0m\n\u001b[0;32m     22\u001b[0m         \u001b[0mtemp_line\u001b[0m \u001b[1;33m=\u001b[0m \u001b[0mlist\u001b[0m\u001b[1;33m(\u001b[0m\u001b[0mmap\u001b[0m\u001b[1;33m(\u001b[0m\u001b[0mfloat\u001b[0m\u001b[1;33m,\u001b[0m \u001b[0mlines\u001b[0m\u001b[1;33m[\u001b[0m\u001b[0mi\u001b[0m\u001b[1;33m]\u001b[0m\u001b[1;33m.\u001b[0m\u001b[0msplit\u001b[0m\u001b[1;33m(\u001b[0m\u001b[1;34m\";\"\u001b[0m\u001b[1;33m)\u001b[0m\u001b[1;33m)\u001b[0m\u001b[1;33m)\u001b[0m\u001b[1;33m\u001b[0m\u001b[1;33m\u001b[0m\u001b[0m\n\u001b[0;32m     23\u001b[0m         \u001b[0mtemp_pixels\u001b[0m \u001b[1;33m=\u001b[0m \u001b[1;33m[\u001b[0m\u001b[1;33m]\u001b[0m\u001b[1;33m\u001b[0m\u001b[1;33m\u001b[0m\u001b[0m\n\u001b[1;32m---> 24\u001b[1;33m         \u001b[1;32mfor\u001b[0m \u001b[0mj\u001b[0m \u001b[1;32min\u001b[0m \u001b[0mrange\u001b[0m\u001b[1;33m(\u001b[0m\u001b[1;36m1\u001b[0m\u001b[1;33m,\u001b[0m \u001b[0mlen\u001b[0m\u001b[1;33m(\u001b[0m\u001b[0mtemp_line\u001b[0m\u001b[1;33m)\u001b[0m\u001b[1;33m)\u001b[0m\u001b[1;33m:\u001b[0m\u001b[1;33m\u001b[0m\u001b[1;33m\u001b[0m\u001b[0m\n\u001b[0m\u001b[0;32m     25\u001b[0m             \u001b[1;32mif\u001b[0m \u001b[0mtemp_line\u001b[0m\u001b[1;33m[\u001b[0m\u001b[0mj\u001b[0m\u001b[1;33m]\u001b[0m \u001b[1;33m!=\u001b[0m \u001b[1;36m0.0\u001b[0m\u001b[1;33m:\u001b[0m\u001b[1;33m\u001b[0m\u001b[1;33m\u001b[0m\u001b[0m\n\u001b[0;32m     26\u001b[0m                 \u001b[0mtemp_pixels\u001b[0m\u001b[1;33m.\u001b[0m\u001b[0mappend\u001b[0m\u001b[1;33m(\u001b[0m\u001b[0mtemp_line\u001b[0m\u001b[1;33m[\u001b[0m\u001b[0mj\u001b[0m\u001b[1;33m]\u001b[0m\u001b[1;33m)\u001b[0m\u001b[1;33m\u001b[0m\u001b[1;33m\u001b[0m\u001b[0m\n",
      "\u001b[1;31mKeyboardInterrupt\u001b[0m: "
     ]
    }
   ],
   "source": [
    "from PIL import Image\n",
    "from matplotlib.pyplot import imshow\n",
    "import numpy as np\n",
    "from os import listdir, makedirs\n",
    "from os.path import exists, isfile, join\n",
    "\n",
    "if not exists(\"raw_image\"):\n",
    "    os.makedirs(\"raw_image\")\n",
    "\n",
    "path = './HotStamping_Thermal scan'\n",
    "csv_files = [ f for f in listdir(path) if isfile(join(path, f))]\n",
    "\n",
    "for cf in range(0, 877): \n",
    "    with open(join(path,csv_files[cf])) as f:\n",
    "        content = f.readlines()\n",
    "\n",
    "    lines = np.array(content)\n",
    "    num_of_instances = lines.size\n",
    "    line_pixels = []\n",
    "    \n",
    "    for i in range(1,num_of_instances):\n",
    "        temp_line = list(map(float, lines[i].split(\";\")))\n",
    "        temp_pixels = []\n",
    "        for j in range(1, len(temp_line)):\n",
    "            if temp_line[j] != 0.0:\n",
    "                temp_pixels.append(temp_line[j])\n",
    "        if len(temp_pixels) > 1:\n",
    "            line_pixels.append(temp_pixels)\n",
    "    \n",
    "    img_path = csv_files[cf].split('.')[0]\n",
    "    pixels = np.array(line_pixels, dtype='uint8')\n",
    "    img = Image.fromarray(pixels)\n",
    "    img=img.convert('RGB')\n",
    "    \n",
    "    img.save(f\"./raw_image/type1_{cf}.jpg\")"
   ]
  },
  {
   "cell_type": "markdown",
   "metadata": {},
   "source": [
    "### Raw_img with color applied"
   ]
  },
  {
   "cell_type": "code",
   "execution_count": null,
   "metadata": {},
   "outputs": [],
   "source": [
    "from PIL import Image\n",
    "from matplotlib.pyplot import imshow\n",
    "import numpy as np\n",
    "from os import listdir, makedirs\n",
    "from os.path import exists, isfile, join\n",
    "\n",
    "if not exists(\"color_img\"):\n",
    "    makedirs(\"color_img\")\n",
    "\n",
    "path = './HotStamping_Thermal scan'\n",
    "csv_files = [ f for f in listdir(path) if isfile(join(path, f))]\n",
    "\n",
    "for cf in range(0, 877): \n",
    "    with open(join(path,csv_files[cf])) as f:\n",
    "        content = f.readlines()\n",
    "\n",
    "    lines = np.array(content)\n",
    "    num_of_instances = lines.size\n",
    "    line_pixels = []\n",
    "    \n",
    "    for i in range(1,num_of_instances):\n",
    "        temp_line = list(map(float, lines[i].split(\";\")))\n",
    "        temp_pixels = []\n",
    "        for j in range(1, len(temp_line)):\n",
    "            if temp_line[j] != 0.0:\n",
    "                temp_pixels.append([temp_line[j], 50.0, 0.0])\n",
    "        if len(temp_pixels) > 1:\n",
    "            line_pixels.append(temp_pixels)\n",
    "\n",
    "    img_path = csv_files[cf].split('.')[0]\n",
    "    pixels = np.asarray(line_pixels, dtype=np.uint8)\n",
    "    img = Image.fromarray(pixels)\n",
    "    img=img.convert('RGB')\n",
    "    \n",
    "    img.save(f\"./color_img/type1_{cf}.jpg\")"
   ]
  },
  {
   "cell_type": "markdown",
   "metadata": {},
   "source": [
    "### Type 1 Defective"
   ]
  },
  {
   "cell_type": "code",
   "execution_count": null,
   "metadata": {},
   "outputs": [],
   "source": [
    "from PIL import Image\n",
    "from matplotlib.pyplot import imshow\n",
    "import numpy as np\n",
    "from os import listdir, makedirs\n",
    "from os.path import exists, isfile, join\n",
    "\n",
    "if not exists(\"color_img\"):\n",
    "    makedirs(\"color_img\")\n",
    "\n",
    "with open('./HotStamping_Thermal scan/Sc2_24_June_19_09_31_20.csv') as f:\n",
    "    content = f.readlines()\n",
    "\n",
    "lines = np.array(content)\n",
    "num_of_instances = lines.size\n",
    "line_pixels = []\n",
    "\n",
    "for i in range(1,num_of_instances):\n",
    "    temp_line = list(map(float, lines[i].split(\";\")))\n",
    "    temp_pixels = []\n",
    "    for j in range(1, len(temp_line)):\n",
    "        if temp_line[j] != 0.0:\n",
    "            temp_pixels.append([temp_line[j], 50.0, 0.0])\n",
    "    if len(temp_pixels) > 1:\n",
    "        line_pixels.append(temp_pixels)\n",
    "\n",
    "img_path = csv_files[cf].split('.')[0]\n",
    "pixels = np.asarray(line_pixels, dtype=np.uint8)\n",
    "img = Image.fromarray(pixels)\n",
    "img=img.convert('RGB')\n",
    "\n",
    "img.save(f\"./color_img/type1d_1.jpg\")"
   ]
  },
  {
   "cell_type": "code",
   "execution_count": null,
   "metadata": {},
   "outputs": [],
   "source": []
  }
 ],
 "metadata": {
  "kernelspec": {
   "display_name": "Python 3",
   "language": "python",
   "name": "python3"
  },
  "language_info": {
   "codemirror_mode": {
    "name": "ipython",
    "version": 3
   },
   "file_extension": ".py",
   "mimetype": "text/x-python",
   "name": "python",
   "nbconvert_exporter": "python",
   "pygments_lexer": "ipython3",
   "version": "3.8.6"
  }
 },
 "nbformat": 4,
 "nbformat_minor": 4
}
